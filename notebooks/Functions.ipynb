{
 "cells": [
  {
   "cell_type": "code",
   "execution_count": 35,
   "metadata": {},
   "outputs": [
    {
     "name": "stdout",
     "output_type": "stream",
     "text": [
      "The NumPy array of the energy level for J = 0 through J = 10 :\n",
      "\n",
      "[[      0.   ]\n",
      " [ 115271.936]\n",
      " [ 345815.808]\n",
      " [ 691631.616]\n",
      " [1152719.36 ]\n",
      " [1729079.04 ]\n",
      " [2420710.656]\n",
      " [3227614.208]\n",
      " [4149789.696]\n",
      " [5187237.12 ]\n",
      " [6339956.48 ]] \n",
      "\n"
     ]
    }
   ],
   "source": [
    "import numpy as np\n",
    "from numpy import array, newaxis\n",
    "import math\n",
    "import matplotlib.pyplot as plt\n",
    "\n",
    "def Energylevel(J, B):\n",
    "    Energy = B * J[:,newaxis] * (J[:,newaxis] + 1)\n",
    "    return Energy\n",
    "\n",
    "J = np.array([0, 1, 2, 3, 4, 5, 6, 7, 8, 9, 10])\n",
    "B = 57635.968\n",
    "\n",
    "print(\"The NumPy array of the energy level for J = 0 through J = 10 :\\n\")\n",
    "print(Energylevel(J, B),\"\\n\")"
   ]
  },
  {
   "cell_type": "code",
   "execution_count": 5,
   "metadata": {},
   "outputs": [
    {
     "name": "stdout",
     "output_type": "stream",
     "text": [
      "The frequency of the transition J = 1 - 0 :\n",
      " [115271.936] \n",
      "\n",
      "The frequency of the transition J = 2 - 1 :\n",
      " [230543.872] \n",
      "\n",
      "The frequency of the transition J = 3 - 2 :\n",
      " [345815.808]\n"
     ]
    }
   ],
   "source": [
    "def Frequency(Upperlevel, Lowerlevel):\n",
    "    return Energylevel(J, B)[Upperlevel] - Energylevel(J, B)[Lowerlevel]\n",
    "\n",
    "level0 = 0\n",
    "level1 = 1\n",
    "level2 = 2\n",
    "level3 = 3\n",
    "\n",
    "print(\"The frequency of the transition J = 1 - 0 :\\n\",Frequency(level1, level0),\"\\n\")\n",
    "print(\"The frequency of the transition J = 2 - 1 :\\n\",Frequency(level2, level1),\"\\n\")\n",
    "print(\"The frequency of the transition J = 3 - 2 :\\n\",Frequency(level3, level2))"
   ]
  },
  {
   "cell_type": "code",
   "execution_count": 5,
   "metadata": {},
   "outputs": [
    {
     "data": {
      "image/png": "[encoded data removed]",
      "text/plain": [
       "<Figure size 432x288 with 1 Axes>"
      ]
     },
     "metadata": {
      "needs_background": "light"
     },
     "output_type": "display_data"
    }
   ],
   "source": [
    "import numpy as np\n",
    "from numpy import array, newaxis\n",
    "import math\n",
    "import matplotlib.pyplot as plt\n",
    "from astropy import units as u\n",
    "\n",
    "T = 25 * u.K\n",
    "m = 28.0 * u.mol\n",
    "Vturb = 0.2 * u.km / u.s\n",
    "V0 = 4 * u.km / u.s\n",
    "\n",
    "fwhm = 2 * np.sqrt(math.log(2)) * np.sqrt((((10 ** -3) * 2 * (1.38064852 * 10 ** -23) * T) / m) + Vturb ** 2)\n",
    "\n",
    "sigma = fwhm / (2 * np.sqrt(2 * np.log(2)))\n",
    "\n",
    "V = np.arange(-5, 5, 0.1)\n",
    "\n",
    "lineprofile = np.exp(-1 * ((V - V0) ** 2)/ (2 * sigma ** 2))\n",
    "\n",
    "plt.title(r'Line Profile')\n",
    "plt.xlabel(r'velocity (Km/s)')\n",
    "plt.plot(V, lineprofile)\n",
    "plt.yscale('linear')"
   ]
  },
  {
   "cell_type": "code",
   "execution_count": 1,
   "metadata": {},
   "outputs": [
    {
     "name": "stdout",
     "output_type": "stream",
     "text": [
      "[0.00000000e+000 0.00000000e+000 0.00000000e+000 0.00000000e+000\n",
      " 0.00000000e+000 0.00000000e+000 0.00000000e+000 0.00000000e+000\n",
      " 0.00000000e+000 0.00000000e+000 0.00000000e+000 0.00000000e+000\n",
      " 0.00000000e+000 0.00000000e+000 0.00000000e+000 0.00000000e+000\n",
      " 0.00000000e+000 0.00000000e+000 0.00000000e+000 0.00000000e+000\n",
      " 0.00000000e+000 0.00000000e+000 0.00000000e+000 0.00000000e+000\n",
      " 0.00000000e+000 0.00000000e+000 0.00000000e+000 5.30248083e-315\n",
      " 4.19080280e-305 2.30011873e-295 8.76674133e-286 2.32039030e-276\n",
      " 4.26499768e-267 5.44391667e-258 4.82546364e-249 2.97030835e-240\n",
      " 1.26969362e-231 3.76904433e-223 7.76959649e-215 1.11224534e-206\n",
      " 1.10570082e-198 7.63325170e-191 3.65945527e-183 1.21831113e-175\n",
      " 2.81666303e-168 4.52216582e-161 5.04188555e-154 3.90368166e-147\n",
      " 2.09889501e-140 7.83685741e-134 2.03202050e-127 3.65888817e-121\n",
      " 4.57514747e-115 3.97279328e-109 2.39564107e-103 1.00318826e-097\n",
      " 2.91727951e-092 5.89126493e-087 8.26178663e-082 8.04589399e-077\n",
      " 5.44138617e-072 2.55552245e-067 8.33460000e-063 1.88766418e-058\n",
      " 2.96892766e-054 3.24271969e-050 2.45954125e-046 1.29548898e-042\n",
      " 4.73858031e-039 1.20364296e-035 2.12315657e-032 2.60076597e-029\n",
      " 2.21235816e-026 1.30690648e-023 5.36128005e-021 1.52731067e-018\n",
      " 3.02149020e-016 4.15097296e-014 3.96016725e-012 2.62368723e-010\n",
      " 1.20710627e-008 3.85668225e-007 8.55691314e-006 1.31842460e-004\n",
      " 1.41067959e-003 1.04818122e-002 5.40853047e-002 1.93801483e-001\n",
      " 4.82247317e-001 8.33330841e-001 1.00000000e+000 8.33330841e-001\n",
      " 4.82247317e-001 1.93801483e-001 5.40853047e-002 1.04818122e-002\n",
      " 1.41067959e-003 1.31842460e-004 8.55691314e-006 3.85668225e-007]\n"
     ]
    },
    {
     "data": {
      "image/png": "[encoded data removed]",
      "text/plain": [
       "<Figure size 432x288 with 1 Axes>"
      ]
     },
     "metadata": {
      "needs_background": "light"
     },
     "output_type": "display_data"
    }
   ],
   "source": [
    "import numpy as np\n",
    "from numpy import array, newaxis\n",
    "import math\n",
    "import matplotlib.pyplot as plt\n",
    "from astropy import units as u\n",
    "\n",
    "T = 25 * u.K\n",
    "m = 28.0 * 1.66053904 * 10 ** -24 * u.g\n",
    "V2turb = 0.04 * u.km * u.km / u.s / u.s\n",
    "V0 = 4 * u.km * u.km / u.s / u.s\n",
    "k_B = 1.38064852 * 10 ** -23 * 10 ** 3 * 10 ** -6 * u.g * u.km * u.km / u.s / u.s / u.K\n",
    "\n",
    "fwhm = 2 * np.sqrt(math.log(2)) * np.sqrt(((2 * (k_B) * T) / m) + V2turb)\n",
    "\n",
    "sigma = fwhm / (2 * np.sqrt(2 * np.log(2))) * u.km / u.s\n",
    "\n",
    "V = np.arange(-5, 5, 0.1) * u.km * u.km / u.s / u.s\n",
    "\n",
    "lineprofile = np.exp(-1 * ((V - V0) ** 2)/ (2 * sigma ** 2))\n",
    "\n",
    "print(lineprofile)\n",
    "\n",
    "plt.title(r'Line Profile')\n",
    "plt.xlabel(r'velocity (Km/s)')\n",
    "plt.plot(V, lineprofile)\n",
    "plt.yscale('linear')"
   ]
  },
  {
   "cell_type": "code",
   "execution_count": null,
   "metadata": {},
   "outputs": [],
   "source": []
  }
 ],
 "metadata": {
  "kernelspec": {
   "display_name": "Python 3",
   "language": "python",
   "name": "python3"
  },
  "language_info": {
   "codemirror_mode": {
    "name": "ipython",
    "version": 3
   },
   "file_extension": ".py",
   "mimetype": "text/x-python",
   "name": "python",
   "nbconvert_exporter": "python",
   "pygments_lexer": "ipython3",
   "version": "3.8.5"
  }
 },
 "nbformat": 4,
 "nbformat_minor": 4
}
