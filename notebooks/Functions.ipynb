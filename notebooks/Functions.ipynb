{
 "cells": [
  {
   "cell_type": "code",
   "execution_count": 32,
   "metadata": {},
   "outputs": [
    {
     "name": "stdout",
     "output_type": "stream",
     "text": [
      "The NumPy array of the energy level for J = 0 through J = 10 :\n",
      "\n",
      "[[      0.         0.         0.  ]\n",
      " [ 114222.48  113173.12  112123.8 ]\n",
      " [ 342667.44  339519.36  336371.4 ]\n",
      " [ 685334.88  679038.72  672742.8 ]\n",
      " [1142224.8  1131731.2  1121238.  ]\n",
      " [1713337.2  1697596.8  1681857.  ]\n",
      " [2398672.08 2376635.52 2354599.8 ]\n",
      " [3198229.44 3168847.36 3139466.4 ]\n",
      " [4112009.28 4074232.32 4036456.8 ]\n",
      " [5140011.6  5092790.4  5045571.  ]\n",
      " [6282236.4  6224521.6  6166809.  ]] \n",
      "\n"
     ]
    }
   ],
   "source": [
    "import numpy as np\n",
    "from numpy import array, newaxis\n",
    "import math\n",
    "import matplotlib.pyplot as plt\n",
    "\n",
    "def Energylevel(J, B):\n",
    "    Energy = B * J[:,newaxis] * (J[:,newaxis] + 1)\n",
    "    \n",
    "    return Energy\n",
    "\n",
    "Energelevel = np.frompyfunc(Energylevel, 2, 1)\n",
    "\n",
    "J = np.array([0, 1, 2, 3, 4, 5, 6, 7, 8, 9, 10])\n",
    "B = np.array([57111.24, 56586.56, 56061.9])\n",
    "\n",
    "print(\"The NumPy array of the energy level for J = 0 through J = 10 :\\n\")\n",
    "print(Energylevel(J, B),\"\\n\")"
   ]
  },
  {
   "cell_type": "code",
   "execution_count": 33,
   "metadata": {},
   "outputs": [
    {
     "name": "stdout",
     "output_type": "stream",
     "text": [
      "The frequency of the transition J = 1 - 0 :\n",
      " [114222.48 113173.12 112123.8 ] \n",
      "\n",
      "The frequency of the transition J = 2 - 1 :\n",
      " [228444.96 226346.24 224247.6 ] \n",
      "\n",
      "The frequency of the transition J = 3 - 2 :\n",
      " [342667.44 339519.36 336371.4 ]\n"
     ]
    }
   ],
   "source": [
    "def Frequency(Upperlevel, Lowerlevel):\n",
    "    return Energylevel(J, B)[Upperlevel] - Energylevel(J, B)[Lowerlevel]\n",
    "\n",
    "level0 = 0\n",
    "level1 = 1\n",
    "level2 = 2\n",
    "level3 = 3\n",
    "\n",
    "print(\"The frequency of the transition J = 1 - 0 :\\n\",Frequency(level1, level0),\"\\n\")\n",
    "print(\"The frequency of the transition J = 2 - 1 :\\n\",Frequency(level2, level1),\"\\n\")\n",
    "print(\"The frequency of the transition J = 3 - 2 :\\n\",Frequency(level3, level2))"
   ]
  },
  {
   "cell_type": "code",
   "execution_count": 70,
   "metadata": {},
   "outputs": [
    {
     "data": {
      "image/png": "[encoded data removed]",
      "text/plain": [
       "<Figure size 432x288 with 1 Axes>"
      ]
     },
     "metadata": {
      "needs_background": "light"
     },
     "output_type": "display_data"
    }
   ],
   "source": [
    "fwhm = 2 * math.sqrt(math.log(2)) * math.sqrt(((2 * (1.380649 * 10 ** -23) * T) / m) + Vturb ** 2)\n",
    "\n",
    "sigma = FWHM(T, m, Vturb) / (2 * math.sqrt(math.log(2)))\n",
    "\n",
    "lineprofile = np.exp(-1 * (((V - V0) ** 2) / (2 * sigma ** 2)))\n",
    "\n",
    "T = 25\n",
    "m = 28.0\n",
    "Vturb = 0.2\n",
    "V0 = 4\n",
    "V = np.arange(-5, 5, 0.1)\n",
    "\n",
    "plt.semilogy(V, lineprofile)\n",
    "plt.title(r'Line Profile')\n",
    "plt.xlabel(r'velocity (Km/s)')\n",
    "plt.show()"
   ]
  },
  {
   "cell_type": "code",
   "execution_count": null,
   "metadata": {},
   "outputs": [],
   "source": []
  }
 ],
 "metadata": {
  "kernelspec": {
   "display_name": "Python 3",
   "language": "python",
   "name": "python3"
  },
  "language_info": {
   "codemirror_mode": {
    "name": "ipython",
    "version": 3
   },
   "file_extension": ".py",
   "mimetype": "text/x-python",
   "name": "python",
   "nbconvert_exporter": "python",
   "pygments_lexer": "ipython3",
   "version": "3.8.5"
  }
 },
 "nbformat": 4,
 "nbformat_minor": 4
}
