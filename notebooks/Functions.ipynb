{
 "cells": [
  {
   "cell_type": "code",
   "execution_count": 35,
   "metadata": {},
   "outputs": [
    {
     "name": "stdout",
     "output_type": "stream",
     "text": [
      "The NumPy array of the energy level for J = 0 through J = 10 :\n",
      "\n",
      "[[      0.   ]\n",
      " [ 115271.936]\n",
      " [ 345815.808]\n",
      " [ 691631.616]\n",
      " [1152719.36 ]\n",
      " [1729079.04 ]\n",
      " [2420710.656]\n",
      " [3227614.208]\n",
      " [4149789.696]\n",
      " [5187237.12 ]\n",
      " [6339956.48 ]] \n",
      "\n"
     ]
    }
   ],
   "source": [
    "import numpy as np\n",
    "from numpy import array, newaxis\n",
    "import math\n",
    "import matplotlib.pyplot as plt\n",
    "\n",
    "def Energylevel(J, B):\n",
    "    Energy = B * J[:,newaxis] * (J[:,newaxis] + 1)\n",
    "    return Energy\n",
    "\n",
    "J = np.array([0, 1, 2, 3, 4, 5, 6, 7, 8, 9, 10])\n",
    "B = 57635.968\n",
    "\n",
    "print(\"The NumPy array of the energy level for J = 0 through J = 10 :\\n\")\n",
    "print(Energylevel(J, B),\"\\n\")"
   ]
  },
  {
   "cell_type": "code",
   "execution_count": 5,
   "metadata": {},
   "outputs": [
    {
     "name": "stdout",
     "output_type": "stream",
     "text": [
      "The frequency of the transition J = 1 - 0 :\n",
      " [115271.936] \n",
      "\n",
      "The frequency of the transition J = 2 - 1 :\n",
      " [230543.872] \n",
      "\n",
      "The frequency of the transition J = 3 - 2 :\n",
      " [345815.808]\n"
     ]
    }
   ],
   "source": [
    "def Frequency(Upperlevel, Lowerlevel):\n",
    "    return Energylevel(J, B)[Upperlevel] - Energylevel(J, B)[Lowerlevel]\n",
    "\n",
    "level0 = 0\n",
    "level1 = 1\n",
    "level2 = 2\n",
    "level3 = 3\n",
    "\n",
    "print(\"The frequency of the transition J = 1 - 0 :\\n\",Frequency(level1, level0),\"\\n\")\n",
    "print(\"The frequency of the transition J = 2 - 1 :\\n\",Frequency(level2, level1),\"\\n\")\n",
    "print(\"The frequency of the transition J = 3 - 2 :\\n\",Frequency(level3, level2))"
   ]
  },
  {
   "cell_type": "code",
   "execution_count": 5,
   "metadata": {},
   "outputs": [
    {
     "data": {
      "image/png": "[encoded data removed]",
      "text/plain": [
       "<Figure size 432x288 with 1 Axes>"
      ]
     },
     "metadata": {
      "needs_background": "light"
     },
     "output_type": "display_data"
    }
   ],
   "source": [
    "import numpy as np\n",
    "from numpy import array, newaxis\n",
    "import math\n",
    "import matplotlib.pyplot as plt\n",
    "from astropy import units as u\n",
    "\n",
    "T = 25 * u.K\n",
    "m = 28.0 * u.mol\n",
    "Vturb = 0.2 * u.km / u.s\n",
    "V0 = 4 * u.km / u.s\n",
    "\n",
    "fwhm = 2 * np.sqrt(math.log(2)) * np.sqrt((((10 ** -3) * 2 * (1.38064852 * 10 ** -23) * T) / m) + Vturb ** 2)\n",
    "\n",
    "sigma = fwhm / (2 * np.sqrt(2 * np.log(2)))\n",
    "\n",
    "V = np.arange(-5, 5, 0.1)\n",
    "\n",
    "lineprofile = np.exp(-1 * ((V - V0) ** 2)/ (2 * sigma ** 2))\n",
    "\n",
    "plt.title(r'Line Profile')\n",
    "plt.xlabel(r'velocity (Km/s)')\n",
    "plt.plot(V, lineprofile)\n",
    "plt.yscale('linear')"
   ]
  },
  {
   "cell_type": "code",
   "execution_count": 53,
   "metadata": {},
   "outputs": [
    {
     "name": "stdout",
     "output_type": "stream",
     "text": [
      "[0.00000000e+000 0.00000000e+000 0.00000000e+000 0.00000000e+000\n",
      " 0.00000000e+000 0.00000000e+000 0.00000000e+000 0.00000000e+000\n",
      " 0.00000000e+000 0.00000000e+000 0.00000000e+000 0.00000000e+000\n",
      " 0.00000000e+000 0.00000000e+000 0.00000000e+000 0.00000000e+000\n",
      " 0.00000000e+000 0.00000000e+000 0.00000000e+000 0.00000000e+000\n",
      " 0.00000000e+000 0.00000000e+000 0.00000000e+000 0.00000000e+000\n",
      " 0.00000000e+000 0.00000000e+000 0.00000000e+000 0.00000000e+000\n",
      " 0.00000000e+000 0.00000000e+000 0.00000000e+000 0.00000000e+000\n",
      " 0.00000000e+000 0.00000000e+000 0.00000000e+000 0.00000000e+000\n",
      " 2.50797208e-317 1.03920226e-305 2.61174176e-294 3.98119218e-283\n",
      " 3.68085585e-272 2.06413091e-261 7.02066780e-251 1.44834615e-240\n",
      " 1.81225403e-230 1.37536680e-220 6.33097734e-211 1.76756641e-201\n",
      " 2.99318445e-192 3.07428397e-183 1.91516960e-174 7.23641152e-166\n",
      " 1.65841048e-157 2.30522632e-149 1.94351485e-141 9.93836441e-134\n",
      " 3.08244070e-126 5.79865542e-119 6.61626106e-112 4.57878997e-105\n",
      " 1.92194773e-098 4.89311226e-092 7.55581902e-086 7.07669818e-080\n",
      " 4.02006022e-074 1.38511937e-068 2.89464031e-063 3.66905962e-058\n",
      " 2.82077009e-053 1.31532589e-048 3.72007598e-044 6.38150345e-040\n",
      " 6.63967720e-036 4.19009319e-032 1.60381089e-028 3.72336312e-025\n",
      " 5.24288566e-022 4.47773244e-019 2.31952283e-016 7.28772410e-014\n",
      " 1.38879439e-011 1.60522806e-009 1.12535175e-007 4.78511739e-006\n",
      " 1.23409804e-004 1.93045414e-003 1.83156389e-002 1.05399225e-001\n",
      " 3.67879441e-001 7.78800783e-001 1.00000000e+000 7.78800783e-001\n",
      " 3.67879441e-001 1.05399225e-001 1.83156389e-002 1.93045414e-003\n",
      " 1.23409804e-004 4.78511739e-006 1.12535175e-007 1.60522806e-009]\n"
     ]
    },
    {
     "data": {
      "image/png": "[encoded data removed]",
      "text/plain": [
       "<Figure size 432x288 with 1 Axes>"
      ]
     },
     "metadata": {
      "needs_background": "light"
     },
     "output_type": "display_data"
    }
   ],
   "source": [
    "import numpy as np\n",
    "from numpy import array, newaxis\n",
    "import math\n",
    "import matplotlib.pyplot as plt\n",
    "from astropy import units as u\n",
    "\n",
    "T = 25 * u.K\n",
    "m = 28.0 * u.g\n",
    "V2turb = 0.04 * u.km * u.km / u.s / u.s\n",
    "V0 = 4 * u.km * u.km / u.s / u.s\n",
    "k_B = 1.38064852 * 10 ** -23 * 10 ** 3 * 10 ** -6 * u.g * u.km * u.km / u.s / u.s / u.K\n",
    "\n",
    "fwhm = 2 * np.sqrt(math.log(2)) * np.sqrt(((2 * (k_B) * T) / m) + V2turb)\n",
    "\n",
    "sigma = fwhm / (2 * np.sqrt(2 * np.log(2))) * u.km / u.s\n",
    "\n",
    "V = np.arange(-5, 5, 0.1) * u.km * u.km / u.s / u.s\n",
    "\n",
    "lineprofile = np.exp(-1 * ((V - V0) ** 2)/ (2 * sigma ** 2))\n",
    "\n",
    "print(lineprofile)\n",
    "\n",
    "plt.title(r'Line Profile')\n",
    "plt.xlabel(r'velocity (Km/s)')\n",
    "plt.plot(V, lineprofile)\n",
    "plt.yscale('linear')"
   ]
  },
  {
   "cell_type": "code",
   "execution_count": null,
   "metadata": {},
   "outputs": [],
   "source": []
  }
 ],
 "metadata": {
  "kernelspec": {
   "display_name": "Python 3",
   "language": "python",
   "name": "python3"
  },
  "language_info": {
   "codemirror_mode": {
    "name": "ipython",
    "version": 3
   },
   "file_extension": ".py",
   "mimetype": "text/x-python",
   "name": "python",
   "nbconvert_exporter": "python",
   "pygments_lexer": "ipython3",
   "version": "3.8.5"
  }
 },
 "nbformat": 4,
 "nbformat_minor": 4
}
