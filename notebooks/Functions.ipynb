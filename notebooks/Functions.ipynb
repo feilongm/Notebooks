{
 "cells": [
  {
   "cell_type": "code",
   "execution_count": 35,
   "metadata": {},
   "outputs": [
    {
     "name": "stdout",
     "output_type": "stream",
     "text": [
      "The NumPy array of the energy level for J = 0 through J = 10 :\n",
      "\n",
      "[[      0.   ]\n",
      " [ 115271.936]\n",
      " [ 345815.808]\n",
      " [ 691631.616]\n",
      " [1152719.36 ]\n",
      " [1729079.04 ]\n",
      " [2420710.656]\n",
      " [3227614.208]\n",
      " [4149789.696]\n",
      " [5187237.12 ]\n",
      " [6339956.48 ]] \n",
      "\n"
     ]
    }
   ],
   "source": [
    "import numpy as np\n",
    "from numpy import array, newaxis\n",
    "import math\n",
    "import matplotlib.pyplot as plt\n",
    "\n",
    "def Energylevel(J, B):\n",
    "    Energy = B * J[:,newaxis] * (J[:,newaxis] + 1)\n",
    "    return Energy\n",
    "\n",
    "J = np.array([0, 1, 2, 3, 4, 5, 6, 7, 8, 9, 10])\n",
    "B = 57635.968\n",
    "\n",
    "print(\"The NumPy array of the energy level for J = 0 through J = 10 :\\n\")\n",
    "print(Energylevel(J, B),\"\\n\")"
   ]
  },
  {
   "cell_type": "code",
   "execution_count": 5,
   "metadata": {},
   "outputs": [
    {
     "name": "stdout",
     "output_type": "stream",
     "text": [
      "The frequency of the transition J = 1 - 0 :\n",
      " [115271.936] \n",
      "\n",
      "The frequency of the transition J = 2 - 1 :\n",
      " [230543.872] \n",
      "\n",
      "The frequency of the transition J = 3 - 2 :\n",
      " [345815.808]\n"
     ]
    }
   ],
   "source": [
    "def Frequency(Upperlevel, Lowerlevel):\n",
    "    return Energylevel(J, B)[Upperlevel] - Energylevel(J, B)[Lowerlevel]\n",
    "\n",
    "level0 = 0\n",
    "level1 = 1\n",
    "level2 = 2\n",
    "level3 = 3\n",
    "\n",
    "print(\"The frequency of the transition J = 1 - 0 :\\n\",Frequency(level1, level0),\"\\n\")\n",
    "print(\"The frequency of the transition J = 2 - 1 :\\n\",Frequency(level2, level1),\"\\n\")\n",
    "print(\"The frequency of the transition J = 3 - 2 :\\n\",Frequency(level3, level2))"
   ]
  },
  {
   "cell_type": "code",
   "execution_count": 37,
   "metadata": {},
   "outputs": [
    {
     "data": {
      "image/png": "[encoded data removed]",
      "text/plain": [
       "<Figure size 432x288 with 1 Axes>"
      ]
     },
     "metadata": {
      "needs_background": "light"
     },
     "output_type": "display_data"
    }
   ],
   "source": [
    "import numpy as np\n",
    "from numpy import array, newaxis\n",
    "import math\n",
    "import matplotlib.pyplot as plt\n",
    "\n",
    "T = 25\n",
    "m = 28.0\n",
    "Vturb = 0.2\n",
    "V0 = 4\n",
    "\n",
    "fwhm = 2 * np.sqrt(math.log(2)) * np.sqrt((((10 ** -3) * 2 * (1.38064852 * 10 ** -23) * T) / m) + Vturb ** 2)\n",
    "\n",
    "sigma = fwhm / (2 * np.sqrt(2 * np.log(2)))\n",
    "\n",
    "V = np.arange(-5, 5, 0.1)\n",
    "\n",
    "lineprofile = np.exp(-1 * ((V - V0) ** 2)/ (2 * sigma ** 2))\n",
    "\n",
    "plt.semilogy(V, lineprofile)\n",
    "plt.title(r'Line Profile')\n",
    "plt.xlabel(r'velocity (Km/s)')\n",
    "plt.show()"
   ]
  },
  {
   "cell_type": "code",
   "execution_count": null,
   "metadata": {},
   "outputs": [],
   "source": []
  }
 ],
 "metadata": {
  "kernelspec": {
   "display_name": "Python 3",
   "language": "python",
   "name": "python3"
  },
  "language_info": {
   "codemirror_mode": {
    "name": "ipython",
    "version": 3
   },
   "file_extension": ".py",
   "mimetype": "text/x-python",
   "name": "python",
   "nbconvert_exporter": "python",
   "pygments_lexer": "ipython3",
   "version": "3.8.5"
  }
 },
 "nbformat": 4,
 "nbformat_minor": 4
}
