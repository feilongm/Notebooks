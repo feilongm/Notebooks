{
 "cells": [
  {
   "cell_type": "code",
   "execution_count": 1,
   "metadata": {},
   "outputs": [],
   "source": [
    "import imageio\n",
    "import glob\n",
    "import numpy as np\n",
    "import os\n",
    "from pygifsicle import optimize\n",
    "\n",
    "def make_emissionsurface_gif(directoryname, gifname, duration):\n",
    "    \"\"\"\n",
    "    directoryname (str): name of directory holding the emission surface diagnostic plots\n",
    "    gifname (str): name of output gif\n",
    "    duration (float): time between frames of gif, in seconds\n",
    "    \"\"\"\n",
    "    filenames = glob.glob(directoryname+\"/*.png\")\n",
    "    numfiles = len(filenames)\n",
    "    velocities = np.zeros(numfiles)\n",
    "    dirnamelen = len(directoryname)\n",
    "    \n",
    "    for i, filename in enumerate(filenames):\n",
    "        velocities[i] = filename[dirnamelen+4:-4]\n",
    "    \n",
    "    velocities = np.sort(velocities).astype(int)\n",
    "    frames = []\n",
    "    \n",
    "    for i in range(numfiles):\n",
    "        frames.append(imageio.imread(directoryname+\"/vel{}.png\".format(velocities[i])))\n",
    "    imageio.mimsave(gifname, frames, 'GIF', duration = duration)\n",
    "    optimize(gifname)"
   ]
  },
  {
   "cell_type": "code",
   "execution_count": 2,
   "metadata": {},
   "outputs": [
    {
     "name": "stdout",
     "output_type": "stream",
     "text": [
      "Files and directories in ' /data/shared/diskprojectiontest ' :\n",
      "['HD163296_13CO_smooth0.5', 'HD163296_C2H_smooth2', 'HD163296_C2H_imsmooth', 'HD163296_HCN_v2', 'HD163296_CO_imsmooth', 'HD163296_C18O_smooth2', 'HD163296_13CO_imsmooth', 'model_CO', 'HD163296_C18O_imsmooth', 'HD163296_CO_v2', 'HD163296_C18O_v2', 'HD163296_HCN', 'model_HCN_smoothed', 'model_CO_smoothed', 'HD163296_13CO_v2', 'HD163296_13CO', 'HD163296_C2H', 'HD163296_C2H_v2', 'HD163296_CO', 'HD163296_13CO_smooth2', 'model_C2H', 'model_HCN', 'HD163296_CO_smooth2', 'model_C2H_smoothed', 'HD163296_HCN_smooth2', 'HD163296_HCN_imsmooth', 'HD163296_C18O']\n"
     ]
    }
   ],
   "source": [
    "path = \"/data/shared/diskprojectiontest\"\n",
    "\n",
    "dir_list = os.listdir(path)\n",
    "\n",
    "print(\"Files and directories in '\", path, \"' :\")\n",
    "print(dir_list)"
   ]
  },
  {
   "cell_type": "code",
   "execution_count": 3,
   "metadata": {},
   "outputs": [],
   "source": [
    "for i in range(len(dir_list)):\n",
    "    if not os.path.exists('/data/shared/diskprojectiontest/' + dir_list[i] + '/' + dir_list[i] + \".gif\"):\n",
    "        make_emissionsurface_gif('/data/shared/diskprojectiontest/' + dir_list[i],'/data/shared/diskprojectiontest/' + dir_list[i] + '/' + dir_list[i] + \".gif\", 0.2)"
   ]
  },
  {
   "cell_type": "code",
   "execution_count": null,
   "metadata": {},
   "outputs": [],
   "source": []
  }
 ],
 "metadata": {
  "kernelspec": {
   "display_name": "Python 3",
   "language": "python",
   "name": "python3"
  },
  "language_info": {
   "codemirror_mode": {
    "name": "ipython",
    "version": 3
   },
   "file_extension": ".py",
   "mimetype": "text/x-python",
   "name": "python",
   "nbconvert_exporter": "python",
   "pygments_lexer": "ipython3",
   "version": "3.8.6"
  }
 },
 "nbformat": 4,
 "nbformat_minor": 4
}
