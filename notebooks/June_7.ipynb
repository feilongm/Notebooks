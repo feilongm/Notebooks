{
 "cells": [
  {
   "cell_type": "code",
   "execution_count": 5,
   "metadata": {},
   "outputs": [],
   "source": [
    "import imageio\n",
    "import glob\n",
    "import numpy as np\n",
    "import os\n",
    "\n",
    "def make_emissionsurface_gif(directoryname, gifname, duration):\n",
    "    \"\"\"\n",
    "    directoryname (str): name of directory holding the emission surface diagnostic plots\n",
    "    gifname (str): name of output gif\n",
    "    duration (float): time between frames of gif, in seconds\n",
    "    \"\"\"\n",
    "    filenames = glob.glob(directoryname+\"/*.png\")\n",
    "    numfiles = len(filenames)\n",
    "    velocities = np.zeros(numfiles)\n",
    "    dirnamelen = len(directoryname)\n",
    "    \n",
    "    for i, filename in enumerate(filenames):\n",
    "        velocities[i] = filename[dirnamelen+4:-4]\n",
    "    \n",
    "    velocities = np.sort(velocities).astype(int)\n",
    "    frames = []\n",
    "    \n",
    "    for i in range(numfiles):\n",
    "        frames.append(imageio.imread(directoryname+\"/vel{}.png\".format(velocities[i])))\n",
    "    imageio.mimsave(gifname, frames, 'GIF', duration = duration)"
   ]
  },
  {
   "cell_type": "code",
   "execution_count": 6,
   "metadata": {},
   "outputs": [
    {
     "name": "stdout",
     "output_type": "stream",
     "text": [
      "Files and directories in ' /data/shared/diskprojectiontest ' :\n",
      "['HD163296_13CO_smooth0.5', 'HD163296_C2H_smooth2', 'HD163296_C2H_imsmooth', 'HD163296_HCN_v2', 'HD163296_CO_imsmooth', 'HD163296_C18O_smooth2', 'HD163296_13CO_imsmooth', 'model_CO', 'HD163296_C18O_imsmooth', 'HD163296_CO_v2', 'HD163296_C18O_v2', 'HD163296_HCN', 'model_HCN_smoothed', 'model_CO_smoothed', 'HD163296_13CO_v2', 'HD163296_13CO', 'HD163296_C2H', 'HD163296_C2H_v2', 'HD163296_CO', 'HD163296_13CO_smooth2', 'model_C2H', 'model_HCN', 'HD163296_CO_smooth2', 'model_C2H_smoothed', 'HD163296_HCN_smooth2', 'HD163296_HCN_imsmooth', 'HD163296_C18O']\n"
     ]
    }
   ],
   "source": [
    "import os\n",
    "\n",
    "path = \"/data/shared/diskprojectiontest\"\n",
    "\n",
    "dir_list = os.listdir(path)\n",
    "\n",
    "print(\"Files and directories in '\", path, \"' :\")\n",
    "print(dir_list)"
   ]
  },
  {
   "cell_type": "code",
   "execution_count": 9,
   "metadata": {},
   "outputs": [],
   "source": [
    "for i in range(len(dir_list)):\n",
    "    if (dir_list[i] == \"HD163296_13CO\"):\n",
    "        make_emissionsurface_gif('/data/shared/diskprojectiontest/HD163296_13CO','/data/shared/diskprojectiontest/HD163296_13CO/HD163296_13CO.gif', 0.2)\n",
    "    elif (dir_list[i] == \"HD163296_CO\"):\n",
    "        make_emissionsurface_gif('/data/shared/diskprojectiontest/HD163296_CO','/data/shared/diskprojectiontest/HD163296_CO/HD163296_CO.gif', 0.2)\n",
    "    elif (dir_list[i] == \"HD163296_HCN\"):\n",
    "        make_emissionsurface_gif('/data/shared/diskprojectiontest/HD163296_HCN','/data/shared/diskprojectiontest/HD163296_HCN/HD163296_HCN.gif', 0.2)\n",
    "    elif (dir_list[i] == \"HD163296_C2H\"):\n",
    "        make_emissionsurface_gif('/data/shared/diskprojectiontest/HD163296_C2H','/data/shared/diskprojectiontest/HD163296_C2H/HD163296_C2H.gif', 0.2)\n",
    "    elif (dir_list[i] == \"HD163296_C18O\"):\n",
    "        make_emissionsurface_gif('/data/shared/diskprojectiontest/HD163296_C18O','/data/shared/diskprojectiontest/HD163296_C18O/HD163296_C18O.gif', 0.2)\n",
    "    else:\n",
    "        continue"
   ]
  },
  {
   "cell_type": "code",
   "execution_count": 21,
   "metadata": {},
   "outputs": [
    {
     "name": "stdout",
     "output_type": "stream",
     "text": [
      "13CO_bad: 0.06-3.06, 8.46-12.66\n",
      "13CO_good: 3.26-8.26\n"
     ]
    }
   ],
   "source": [
    "print(\"13CO_bad: 0.06-3.06, 8.46-12.66\")\n",
    "print(\"13CO_good: 3.26-8.26\")"
   ]
  },
  {
   "cell_type": "code",
   "execution_count": 22,
   "metadata": {},
   "outputs": [
    {
     "name": "stdout",
     "output_type": "stream",
     "text": [
      "CO_bad: 0.06-3.06, 8.86-12.66\n",
      "CO_good: 3.26-8.66\n"
     ]
    }
   ],
   "source": [
    "print(\"CO_bad: 0.06-3.06, 8.86-12.66\")\n",
    "print(\"CO_good: 3.26-8.66\")"
   ]
  },
  {
   "cell_type": "code",
   "execution_count": 23,
   "metadata": {},
   "outputs": [
    {
     "name": "stdout",
     "output_type": "stream",
     "text": [
      "HCN_bad: 0.06-2.86, 8.66-12.66\n",
      "HCN_good: 3.06-8.46\n"
     ]
    }
   ],
   "source": [
    "print(\"HCN_bad: 0.06-2.86, 8.66-12.66\")\n",
    "print(\"HCN_good: 3.06-8.46\")"
   ]
  },
  {
   "cell_type": "code",
   "execution_count": 24,
   "metadata": {},
   "outputs": [
    {
     "name": "stdout",
     "output_type": "stream",
     "text": [
      "C2H_bad: 0.06-2.66, 9.26-12.66\n",
      "C2H_good: 2.86-9.06\n"
     ]
    }
   ],
   "source": [
    "print(\"C2H_bad: 0.06-2.66, 9.26-12.66\")\n",
    "print(\"C2H_good: 2.86-9.06\")"
   ]
  },
  {
   "cell_type": "code",
   "execution_count": 25,
   "metadata": {},
   "outputs": [
    {
     "name": "stdout",
     "output_type": "stream",
     "text": [
      "C18O_bad: 0.06-2.66, 9.66-12.66\n",
      "C18O_good: 2.86-9.46\n"
     ]
    }
   ],
   "source": [
    "print(\"C18O_bad: 0.06-2.66, 9.66-12.66\")\n",
    "print(\"C18O_good: 2.86-9.46\")"
   ]
  },
  {
   "cell_type": "code",
   "execution_count": 26,
   "metadata": {},
   "outputs": [
    {
     "name": "stdout",
     "output_type": "stream",
     "text": [
      "To summarize, the disk emission surfaces are generally well-identified when velocityies are between 3.06 and 9.06.\n"
     ]
    }
   ],
   "source": [
    "print(\"To summarize, the disk emission surfaces are generally well-identified when velocityies are between 3.06 and 9.06.\")"
   ]
  },
  {
   "cell_type": "code",
   "execution_count": 27,
   "metadata": {},
   "outputs": [
    {
     "name": "stdout",
     "output_type": "stream",
     "text": [
      "The disk emission surfaces are poorly identified when velocities fall into the intervals [0.06-2.86] and [9.26-12.66].\n"
     ]
    }
   ],
   "source": [
    "print(\"The disk emission surfaces are poorly identified when velocities fall into the intervals [0.06-2.86] and [9.26-12.66].\")"
   ]
  },
  {
   "cell_type": "code",
   "execution_count": null,
   "metadata": {},
   "outputs": [],
   "source": []
  }
 ],
 "metadata": {
  "kernelspec": {
   "display_name": "Python 3",
   "language": "python",
   "name": "python3"
  },
  "language_info": {
   "codemirror_mode": {
    "name": "ipython",
    "version": 3
   },
   "file_extension": ".py",
   "mimetype": "text/x-python",
   "name": "python",
   "nbconvert_exporter": "python",
   "pygments_lexer": "ipython3",
   "version": "3.8.6"
  }
 },
 "nbformat": 4,
 "nbformat_minor": 4
}
