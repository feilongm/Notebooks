{
 "cells": [
  {
   "cell_type": "code",
   "execution_count": 1,
   "metadata": {},
   "outputs": [
    {
     "name": "stdout",
     "output_type": "stream",
     "text": [
      "Fast (Fortran90) Mie-scattering module could not be imported. Falling back to the slower Python version.\n",
      "Reading /data/feilongm/HD163296_radmc3d/image.out\n",
      "testimage.fits already exists\n",
      "Do you want to overwrite it (yes/no)?yes\n"
     ]
    }
   ],
   "source": [
    "import sys\n",
    "sys.path.append('/shellstrop1/feilongm/radmc3d-2.0-master/python/radmc3dPy') #edit to match your path\n",
    "\n",
    "import radmc3dPy\n",
    "\n",
    "im = radmc3dPy.image.readImage(fname='/data/feilongm/HD163296_radmc3d/image.out') #edit to match the path to the image\n",
    "im.writeFits('testimage.fits', dpc=101., coord='17h56m21s -21d57m21s')"
   ]
  },
  {
   "cell_type": "code",
   "execution_count": 2,
   "metadata": {},
   "outputs": [
    {
     "name": "stdout",
     "output_type": "stream",
     "text": [
      "SIMPLE  =                    T / conforms to FITS standard                      BITPIX  =                  -64 / array data type                                NAXIS   =                    3 / number of array dimensions                     NAXIS1  =                  512                                                  NAXIS2  =                  512                                                  NAXIS3  =                   81                                                  EXTEND  =                    T                                                  CRPIX1  =                256.5 /                                                CDELT1  = -6.4459570957095E-06                                                  CRVAL1  =             269.0875                                                  CUNIT1  = '     DEG'                                                            CTYPE1  = 'RA---SIN'                                                            CRPIX2  =                256.5                                                  CDELT2  = 6.44595709570957E-06                                                  CRVAL2  =   -21.95583333333333                                                  CUNIT2  = '     DEG'                                                            CTYPE2  = 'DEC--SIN'                                                            CRPIX3  =                  1.0                                                  CDELT3  =   -192248.0010681152                                                  CRVAL3  =    230545689919.9385                                                  CUNIT3  = '      HZ'                                                            CTYPE3  = 'FREQ-LSR'                                                            BUNIT   = 'JY/PIXEL'                                                            BTYPE   = 'INTENSITY'                                                           BZERO   =                  0.0                                                  BSCALE  =                  1.0                                                  EPOCH   =               2000.0                                                  LONPOLE =                180.0                                                  END                                                                                                                                                                                                                                                                                                                                                                                                                                                                                                                                                                                                                                                             \n"
     ]
    }
   ],
   "source": [
    "from astropy.io import fits\n",
    "\n",
    "HD163296_13CO_file = \"/home/feilongm/testimage.fits\"\n",
    "\n",
    "HD163296_13COcube = fits.open(HD163296_13CO_file)[0]\n",
    "\n",
    "header = HD163296_13COcube.header\n",
    "print(header)"
   ]
  },
  {
   "cell_type": "code",
   "execution_count": 3,
   "metadata": {},
   "outputs": [
    {
     "name": "stdout",
     "output_type": "stream",
     "text": [
      "Reference frequency: 230545689919.9385 Hz\n",
      "Reference frequency channel: 1.0\n",
      "Frequency spacing: -192248.0010681152 Hz\n",
      "Number of different frequencies: 81\n",
      "Unit of frequency:       HZ\n",
      "230538000000.0 Hz\n",
      "[2.30545690e+11 2.30545498e+11 2.30545305e+11 2.30545113e+11\n",
      " 2.30544921e+11 2.30544729e+11 2.30544536e+11 2.30544344e+11\n",
      " 2.30544152e+11 2.30543960e+11 2.30543767e+11 2.30543575e+11\n",
      " 2.30543383e+11 2.30543191e+11 2.30542998e+11] Hz\n",
      "[-10.          -9.75        -9.49999999  -9.24999999  -8.99999999\n",
      "  -8.74999998  -8.49999998  -8.24999998  -7.99999997  -7.74999997\n",
      "  -7.49999997  -7.24999996  -6.99999996  -6.74999996  -6.49999995] km / s\n"
     ]
    }
   ],
   "source": [
    "import numpy as np\n",
    "from numpy import array, newaxis\n",
    "from astropy import units as u\n",
    "\n",
    "print(\"Reference frequency:\",header['CRVAL3'] * u.Hz)\n",
    "print(\"Reference frequency channel:\",header['CRPIX3'])\n",
    "print(\"Frequency spacing:\",header['CDELT3'] * u.Hz)\n",
    "print(\"Number of different frequencies:\",header['NAXIS3'])\n",
    "print(\"Unit of frequency:\",header['CUNIT3'])\n",
    "RESTFRQ = 230.538 * 10**9 *u.Hz\n",
    "print(RESTFRQ)\n",
    "\n",
    "FrequencySpacing = header['CDELT3'] * u.Hz\n",
    "ReferenceFrequency = header['CRVAL3'] * u.Hz\n",
    "NumFreq = np.arange(start=1, stop=16, step=1)\n",
    "RestFreq = RESTFRQ\n",
    "c = 299792.458 * u.km / u.s\n",
    "\n",
    "def FrequenciesOnDifferentChannals(FrequencySpacing, ReferenceFrequency, NumFreq):\n",
    "    Freq = ReferenceFrequency + (NumFreq - 1) * FrequencySpacing\n",
    "    return Freq\n",
    "\n",
    "ResultReferenceFreq = FrequenciesOnDifferentChannals(FrequencySpacing, ReferenceFrequency, NumFreq)\n",
    "\n",
    "print(ResultReferenceFreq)\n",
    "\n",
    "def ConvertingUnits(ResultReferenceFreq, RestFreq):\n",
    "    ConvertingUnits = c * (RestFreq - ResultReferenceFreq) / RestFreq\n",
    "    return ConvertingUnits\n",
    "\n",
    "resultVelocity = ConvertingUnits(ResultReferenceFreq, RestFreq)\n",
    "print(resultVelocity)"
   ]
  },
  {
   "cell_type": "code",
   "execution_count": 4,
   "metadata": {},
   "outputs": [
    {
     "ename": "ValueError",
     "evalue": "x and y must have same first dimension, but have shapes (15,) and (81,)",
     "output_type": "error",
     "traceback": [
      "\u001b[0;31m---------------------------------------------------------------------------\u001b[0m",
      "\u001b[0;31mValueError\u001b[0m                                Traceback (most recent call last)",
      "\u001b[0;32m<ipython-input-4-dace30e465e0>\u001b[0m in \u001b[0;36m<module>\u001b[0;34m\u001b[0m\n\u001b[1;32m      2\u001b[0m \u001b[0mdata\u001b[0m \u001b[0;34m=\u001b[0m \u001b[0mHD163296_13COcube\u001b[0m\u001b[0;34m.\u001b[0m\u001b[0mdata\u001b[0m\u001b[0;34m\u001b[0m\u001b[0;34m\u001b[0m\u001b[0m\n\u001b[1;32m      3\u001b[0m \u001b[0mspectrum\u001b[0m \u001b[0;34m=\u001b[0m \u001b[0mnp\u001b[0m\u001b[0;34m.\u001b[0m\u001b[0msum\u001b[0m\u001b[0;34m(\u001b[0m\u001b[0mdata\u001b[0m\u001b[0;34m,\u001b[0m \u001b[0maxis\u001b[0m\u001b[0;34m=\u001b[0m\u001b[0;34m(\u001b[0m\u001b[0;36m1\u001b[0m\u001b[0;34m,\u001b[0m\u001b[0;36m2\u001b[0m\u001b[0;34m)\u001b[0m\u001b[0;34m)\u001b[0m\u001b[0;34m\u001b[0m\u001b[0;34m\u001b[0m\u001b[0m\n\u001b[0;32m----> 4\u001b[0;31m \u001b[0mplt\u001b[0m\u001b[0;34m.\u001b[0m\u001b[0mplot\u001b[0m\u001b[0;34m(\u001b[0m\u001b[0mresultVelocity\u001b[0m\u001b[0;34m,\u001b[0m \u001b[0mspectrum\u001b[0m\u001b[0;34m)\u001b[0m\u001b[0;34m\u001b[0m\u001b[0;34m\u001b[0m\u001b[0m\n\u001b[0m\u001b[1;32m      5\u001b[0m \u001b[0mplt\u001b[0m\u001b[0;34m.\u001b[0m\u001b[0mxlabel\u001b[0m\u001b[0;34m(\u001b[0m\u001b[0;34m'velocity (km/s)'\u001b[0m\u001b[0;34m)\u001b[0m\u001b[0;34m\u001b[0m\u001b[0;34m\u001b[0m\u001b[0m\n\u001b[1;32m      6\u001b[0m \u001b[0mplt\u001b[0m\u001b[0;34m.\u001b[0m\u001b[0mshow\u001b[0m\u001b[0;34m(\u001b[0m\u001b[0;34m)\u001b[0m\u001b[0;34m\u001b[0m\u001b[0;34m\u001b[0m\u001b[0m\n",
      "\u001b[0;32m/usr/local/anaconda/lib/python3.8/site-packages/matplotlib/pyplot.py\u001b[0m in \u001b[0;36mplot\u001b[0;34m(scalex, scaley, data, *args, **kwargs)\u001b[0m\n\u001b[1;32m   2838\u001b[0m \u001b[0;34m@\u001b[0m\u001b[0m_copy_docstring_and_deprecators\u001b[0m\u001b[0;34m(\u001b[0m\u001b[0mAxes\u001b[0m\u001b[0;34m.\u001b[0m\u001b[0mplot\u001b[0m\u001b[0;34m)\u001b[0m\u001b[0;34m\u001b[0m\u001b[0;34m\u001b[0m\u001b[0m\n\u001b[1;32m   2839\u001b[0m \u001b[0;32mdef\u001b[0m \u001b[0mplot\u001b[0m\u001b[0;34m(\u001b[0m\u001b[0;34m*\u001b[0m\u001b[0margs\u001b[0m\u001b[0;34m,\u001b[0m \u001b[0mscalex\u001b[0m\u001b[0;34m=\u001b[0m\u001b[0;32mTrue\u001b[0m\u001b[0;34m,\u001b[0m \u001b[0mscaley\u001b[0m\u001b[0;34m=\u001b[0m\u001b[0;32mTrue\u001b[0m\u001b[0;34m,\u001b[0m \u001b[0mdata\u001b[0m\u001b[0;34m=\u001b[0m\u001b[0;32mNone\u001b[0m\u001b[0;34m,\u001b[0m \u001b[0;34m**\u001b[0m\u001b[0mkwargs\u001b[0m\u001b[0;34m)\u001b[0m\u001b[0;34m:\u001b[0m\u001b[0;34m\u001b[0m\u001b[0;34m\u001b[0m\u001b[0m\n\u001b[0;32m-> 2840\u001b[0;31m     return gca().plot(\n\u001b[0m\u001b[1;32m   2841\u001b[0m         \u001b[0;34m*\u001b[0m\u001b[0margs\u001b[0m\u001b[0;34m,\u001b[0m \u001b[0mscalex\u001b[0m\u001b[0;34m=\u001b[0m\u001b[0mscalex\u001b[0m\u001b[0;34m,\u001b[0m \u001b[0mscaley\u001b[0m\u001b[0;34m=\u001b[0m\u001b[0mscaley\u001b[0m\u001b[0;34m,\u001b[0m\u001b[0;34m\u001b[0m\u001b[0;34m\u001b[0m\u001b[0m\n\u001b[1;32m   2842\u001b[0m         **({\"data\": data} if data is not None else {}), **kwargs)\n",
      "\u001b[0;32m/usr/local/anaconda/lib/python3.8/site-packages/matplotlib/axes/_axes.py\u001b[0m in \u001b[0;36mplot\u001b[0;34m(self, scalex, scaley, data, *args, **kwargs)\u001b[0m\n\u001b[1;32m   1741\u001b[0m         \"\"\"\n\u001b[1;32m   1742\u001b[0m         \u001b[0mkwargs\u001b[0m \u001b[0;34m=\u001b[0m \u001b[0mcbook\u001b[0m\u001b[0;34m.\u001b[0m\u001b[0mnormalize_kwargs\u001b[0m\u001b[0;34m(\u001b[0m\u001b[0mkwargs\u001b[0m\u001b[0;34m,\u001b[0m \u001b[0mmlines\u001b[0m\u001b[0;34m.\u001b[0m\u001b[0mLine2D\u001b[0m\u001b[0;34m)\u001b[0m\u001b[0;34m\u001b[0m\u001b[0;34m\u001b[0m\u001b[0m\n\u001b[0;32m-> 1743\u001b[0;31m         \u001b[0mlines\u001b[0m \u001b[0;34m=\u001b[0m \u001b[0;34m[\u001b[0m\u001b[0;34m*\u001b[0m\u001b[0mself\u001b[0m\u001b[0;34m.\u001b[0m\u001b[0m_get_lines\u001b[0m\u001b[0;34m(\u001b[0m\u001b[0;34m*\u001b[0m\u001b[0margs\u001b[0m\u001b[0;34m,\u001b[0m \u001b[0mdata\u001b[0m\u001b[0;34m=\u001b[0m\u001b[0mdata\u001b[0m\u001b[0;34m,\u001b[0m \u001b[0;34m**\u001b[0m\u001b[0mkwargs\u001b[0m\u001b[0;34m)\u001b[0m\u001b[0;34m]\u001b[0m\u001b[0;34m\u001b[0m\u001b[0;34m\u001b[0m\u001b[0m\n\u001b[0m\u001b[1;32m   1744\u001b[0m         \u001b[0;32mfor\u001b[0m \u001b[0mline\u001b[0m \u001b[0;32min\u001b[0m \u001b[0mlines\u001b[0m\u001b[0;34m:\u001b[0m\u001b[0;34m\u001b[0m\u001b[0;34m\u001b[0m\u001b[0m\n\u001b[1;32m   1745\u001b[0m             \u001b[0mself\u001b[0m\u001b[0;34m.\u001b[0m\u001b[0madd_line\u001b[0m\u001b[0;34m(\u001b[0m\u001b[0mline\u001b[0m\u001b[0;34m)\u001b[0m\u001b[0;34m\u001b[0m\u001b[0;34m\u001b[0m\u001b[0m\n",
      "\u001b[0;32m/usr/local/anaconda/lib/python3.8/site-packages/matplotlib/axes/_base.py\u001b[0m in \u001b[0;36m__call__\u001b[0;34m(self, data, *args, **kwargs)\u001b[0m\n\u001b[1;32m    271\u001b[0m                 \u001b[0mthis\u001b[0m \u001b[0;34m+=\u001b[0m \u001b[0margs\u001b[0m\u001b[0;34m[\u001b[0m\u001b[0;36m0\u001b[0m\u001b[0;34m]\u001b[0m\u001b[0;34m,\u001b[0m\u001b[0;34m\u001b[0m\u001b[0;34m\u001b[0m\u001b[0m\n\u001b[1;32m    272\u001b[0m                 \u001b[0margs\u001b[0m \u001b[0;34m=\u001b[0m \u001b[0margs\u001b[0m\u001b[0;34m[\u001b[0m\u001b[0;36m1\u001b[0m\u001b[0;34m:\u001b[0m\u001b[0;34m]\u001b[0m\u001b[0;34m\u001b[0m\u001b[0;34m\u001b[0m\u001b[0m\n\u001b[0;32m--> 273\u001b[0;31m             \u001b[0;32myield\u001b[0m \u001b[0;32mfrom\u001b[0m \u001b[0mself\u001b[0m\u001b[0;34m.\u001b[0m\u001b[0m_plot_args\u001b[0m\u001b[0;34m(\u001b[0m\u001b[0mthis\u001b[0m\u001b[0;34m,\u001b[0m \u001b[0mkwargs\u001b[0m\u001b[0;34m)\u001b[0m\u001b[0;34m\u001b[0m\u001b[0;34m\u001b[0m\u001b[0m\n\u001b[0m\u001b[1;32m    274\u001b[0m \u001b[0;34m\u001b[0m\u001b[0m\n\u001b[1;32m    275\u001b[0m     \u001b[0;32mdef\u001b[0m \u001b[0mget_next_color\u001b[0m\u001b[0;34m(\u001b[0m\u001b[0mself\u001b[0m\u001b[0;34m)\u001b[0m\u001b[0;34m:\u001b[0m\u001b[0;34m\u001b[0m\u001b[0;34m\u001b[0m\u001b[0m\n",
      "\u001b[0;32m/usr/local/anaconda/lib/python3.8/site-packages/matplotlib/axes/_base.py\u001b[0m in \u001b[0;36m_plot_args\u001b[0;34m(self, tup, kwargs)\u001b[0m\n\u001b[1;32m    397\u001b[0m \u001b[0;34m\u001b[0m\u001b[0m\n\u001b[1;32m    398\u001b[0m         \u001b[0;32mif\u001b[0m \u001b[0mx\u001b[0m\u001b[0;34m.\u001b[0m\u001b[0mshape\u001b[0m\u001b[0;34m[\u001b[0m\u001b[0;36m0\u001b[0m\u001b[0;34m]\u001b[0m \u001b[0;34m!=\u001b[0m \u001b[0my\u001b[0m\u001b[0;34m.\u001b[0m\u001b[0mshape\u001b[0m\u001b[0;34m[\u001b[0m\u001b[0;36m0\u001b[0m\u001b[0;34m]\u001b[0m\u001b[0;34m:\u001b[0m\u001b[0;34m\u001b[0m\u001b[0;34m\u001b[0m\u001b[0m\n\u001b[0;32m--> 399\u001b[0;31m             raise ValueError(f\"x and y must have same first dimension, but \"\n\u001b[0m\u001b[1;32m    400\u001b[0m                              f\"have shapes {x.shape} and {y.shape}\")\n\u001b[1;32m    401\u001b[0m         \u001b[0;32mif\u001b[0m \u001b[0mx\u001b[0m\u001b[0;34m.\u001b[0m\u001b[0mndim\u001b[0m \u001b[0;34m>\u001b[0m \u001b[0;36m2\u001b[0m \u001b[0;32mor\u001b[0m \u001b[0my\u001b[0m\u001b[0;34m.\u001b[0m\u001b[0mndim\u001b[0m \u001b[0;34m>\u001b[0m \u001b[0;36m2\u001b[0m\u001b[0;34m:\u001b[0m\u001b[0;34m\u001b[0m\u001b[0;34m\u001b[0m\u001b[0m\n",
      "\u001b[0;31mValueError\u001b[0m: x and y must have same first dimension, but have shapes (15,) and (81,)"
     ]
    },
    {
     "data": {
      "image/png": "[encoded data removed]",
      "text/plain": [
       "<Figure size 432x288 with 1 Axes>"
      ]
     },
     "metadata": {
      "needs_background": "light"
     },
     "output_type": "display_data"
    }
   ],
   "source": [
    "import matplotlib.pyplot as plt\n",
    "data = HD163296_13COcube.data\n",
    "spectrum = np.sum(data, axis=(1,2))\n",
    "plt.plot(resultVelocity, spectrum)\n",
    "plt.xlabel('velocity (km/s)')\n",
    "plt.show()"
   ]
  },
  {
   "cell_type": "code",
   "execution_count": 5,
   "metadata": {},
   "outputs": [
    {
     "data": {
      "image/png": "[encoded data removed]",
      "text/plain": [
       "<Figure size 864x864 with 15 Axes>"
      ]
     },
     "metadata": {
      "needs_background": "light"
     },
     "output_type": "display_data"
    }
   ],
   "source": [
    "text_kwargs = dict(ha='center', va='center', fontsize=8, color='C1')\n",
    "plt.figure(figsize = (12,12))\n",
    "plt.subplot(3,5,1)\n",
    "plt.imshow(data[0], origin='lower')\n",
    "plt.text(400, 400, 'v = -5.0 km/s', **text_kwargs)\n",
    "plt.subplot(3,5,2)\n",
    "plt.imshow(data[1], origin='lower')\n",
    "plt.text(400, 400, 'v = -4.3 km/s', **text_kwargs)\n",
    "plt.subplot(3,5,3)\n",
    "plt.imshow(data[2], origin='lower')\n",
    "plt.text(400, 400, 'v = -3.6 km/s', **text_kwargs)\n",
    "plt.subplot(3,5,4)\n",
    "plt.imshow(data[3], origin='lower')\n",
    "plt.text(400, 400, 'v = -2.9 km/s', **text_kwargs)\n",
    "plt.subplot(3,5,5)\n",
    "plt.imshow(data[4], origin='lower')\n",
    "plt.text(400, 400, 'v = -2.1 km/s', **text_kwargs)\n",
    "plt.subplot(3,5,6)\n",
    "plt.imshow(data[5], origin='lower')\n",
    "plt.text(400, 400, 'v = -1.4 km/s', **text_kwargs)\n",
    "plt.subplot(3,5,7)\n",
    "plt.imshow(data[6], origin='lower')\n",
    "plt.text(400, 400, 'v = -7.1 km/s', **text_kwargs)\n",
    "plt.subplot(3,5,8)\n",
    "plt.imshow(data[7], origin='lower')\n",
    "plt.text(400, 400, 'v = -4.6 km/s', **text_kwargs)\n",
    "plt.subplot(3,5,9)\n",
    "plt.imshow(data[8], origin='lower')\n",
    "plt.text(400, 400, 'v = 7.1 km/s', **text_kwargs)\n",
    "plt.subplot(3,5,10)\n",
    "plt.imshow(data[9], origin='lower')\n",
    "plt.text(400, 400, 'v = 1.4 km/s', **text_kwargs)\n",
    "plt.subplot(3,5,11)\n",
    "plt.imshow(data[10], origin='lower')\n",
    "plt.text(400, 400, 'v = 2.1 km/s', **text_kwargs)\n",
    "plt.subplot(3,5,12)\n",
    "plt.imshow(data[11], origin='lower')\n",
    "plt.text(400, 400, 'v = 2.9 km/s', **text_kwargs)\n",
    "plt.subplot(3,5,13)\n",
    "plt.imshow(data[12], origin='lower')\n",
    "plt.text(400, 400, 'v = 3.6 km/s', **text_kwargs)\n",
    "plt.subplot(3,5,14)\n",
    "plt.imshow(data[13], origin='lower')\n",
    "plt.text(400, 400, 'v = 4.3 km/s', **text_kwargs)\n",
    "plt.subplot(3,5,15)\n",
    "plt.imshow(data[14], origin='lower')\n",
    "plt.text(400, 400, 'v = 5.0 km/s', **text_kwargs)\n",
    "plt.show()"
   ]
  },
  {
   "cell_type": "code",
   "execution_count": 6,
   "metadata": {},
   "outputs": [],
   "source": [
    "import sys\n",
    "import os\n",
    "import numpy as np\n",
    "from scipy.interpolate import LinearNDInterpolator\n",
    "import matplotlib.pyplot as plt\n",
    "import matplotlib.colors as col\n",
    "\n",
    "#add parameters\n",
    "\n",
    "def setDirectories():\n",
    "    if not os.path.exists('/data/feilongm/HD163296_radmc3d'):\n",
    "        os.system('mkdir /data/feilongm/HD163296_radmc3d')\n",
    "    os.chdir('/data/feilongm/HD163296_radmc3d')\n",
    "\n",
    "def load_output():\n",
    "    filename='/data/feilongm/rac-2d/rac-2d-master_2021/storage/HD_163296_COdep_t1e4_3/iter_0001.dat'\n",
    "    output = np.loadtxt(filename, comments='!')\n",
    "    with open(filename, 'r') as f:\n",
    "        columnnames = f.readline().split()[1:]\n",
    "        return dict(zip(np.array(columnnames), output.T))\n",
    "\n",
    "#results = load_output(filename)\n",
    "\n",
    "def saveFile(results):\n",
    "    import radmc3dPy\n",
    "    import radmc3dPy.natconst as nc\n",
    "    rac2d_rvals = 0.5*(results['rmin']+results['rmax'])\n",
    "    rac2d_zvals = 0.5*(results['zmin']+results['zmax'])\n",
    "    rac2d_ngas = results['n_gas']\n",
    "    rac2d_temp = results['Tgas']\n",
    "    outputarray = np.stack((rac2d_rvals, rac2d_zvals, rac2d_ngas,rac2d_temp), axis=-1)\n",
    "    np.savetxt('HD163296structure.txt',outputarray)\n",
    "    sys.path.append('/shellstrop1/feilongm/radmc3d-2.0-master/python/radmc3dPy')\n",
    "\n",
    "def setModelGrid(mstar_in, gasspec_vturb_in):\n",
    "    import radmc3dPy.natconst as nc\n",
    "    rvals = np.logspace(np.log10(0.01), np.log10(800),num=100)\n",
    "    rvalstring='['\n",
    "    for i in rvals:\n",
    "        rvalstring+=('%0.2e' % i + \"*au,\")\n",
    "    rvalstring=rvalstring[:-1]+']'\n",
    "    model = radmc3dPy.setup.radmc3dModel(model='ppdisk', \n",
    "                                         mstar = [mstar_in], #custom mstar\n",
    "                                         gasspec_vturb = gasspec_vturb_in, #custom gasspec_vturb\n",
    "                                         binary=False)\n",
    "    model.par.ppar['crd_sys']  = 'sph'\n",
    "    model.makeGrid()\n",
    "    model.grid.act_dim = [1,1,0]\n",
    "    model.grid.nxi = 256\n",
    "    model.grid.nyi = 65\n",
    "    model.grid.nzi = 2\n",
    "    model.grid.xi = np.logspace(np.log10(0.1*nc.au), np.log10(600*nc.au), num=model.grid.nxi)\n",
    "    model.grid.yi = np.concatenate((np.linspace(0, np.pi/3, num=20)[:-1], np.linspace(np.pi/3., np.pi/2., num=model.grid.nyi+1-20) )) #in radians\n",
    "    model.grid.zi = np.array([0,0]) \n",
    "    model.grid.nx = model.grid.nxi-1\n",
    "    model.grid.ny = model.grid.nyi-1\n",
    "    model.grid.nz = model.grid.nzi-1\n",
    "    model.grid.x = (model.grid.xi[1:]+model.grid.xi[:-1])*0.5\n",
    "    model.grid.y = (model.grid.yi[1:]+model.grid.yi[:-1])*0.5\n",
    "    model.grid.z = np.array([0])\n",
    "    model.grid.writeSpatialGrid()\n",
    "    model.grid.writeWavelengthGrid()\n",
    "    model.data = radmc3dPy.analyze.radmc3dData(model.grid)\n",
    "    model.makeRadSources(writeToFile=True)\n",
    "    model.makeVar(gvel=True, vturb=True, writeToFile=True)\n",
    "    return model\n",
    "\n",
    "def writeGasTemp(radmc3dpy_model, structurefile):\n",
    "    import radmc3dPy.natconst as nc\n",
    "    nx = radmc3dpy_model.data.grid.nx\n",
    "    ny = radmc3dpy_model.data.grid.ny\n",
    "    nz = radmc3dpy_model.data.grid.nz\n",
    "    radmc3d_temp = np.zeros([nx, ny, nz])\n",
    "    HD163296structure = np.loadtxt(structurefile)\n",
    "    rac2d_r = HD163296structure[:,0]*nc.au \n",
    "    rac2d_z = HD163296structure[:,1]*nc.au \n",
    "    rac2d_temp =  HD163296structure[:,3] \n",
    "    \n",
    "    rac2d_r = np.concatenate((rac2d_r, rac2d_r))\n",
    "    rac2d_z = np.concatenate((rac2d_z, -1*rac2d_z))\n",
    "    rac2d_temp =  np.concatenate((rac2d_temp, rac2d_temp))\n",
    "\n",
    "    \n",
    "    temp_interp = LinearNDInterpolator(list(zip(rac2d_r, rac2d_z)), rac2d_temp, fill_value=3.)\n",
    "    \n",
    "    \n",
    "    for i in range(nx):\n",
    "        for j in range(ny):\n",
    "            for k in range(nz):\n",
    "                r_cyl = radmc3dpy_model.data.grid.x[i]*np.sin(radmc3dpy_model.data.grid.y[j])\n",
    "                z = np.abs(radmc3dpy_model.data.grid.x[i]*np.cos(radmc3dpy_model.data.grid.y[j]))\n",
    "                tempval = temp_interp(r_cyl,z)\n",
    "                if tempval>1.e5:\n",
    "                    radmc3d_temp[i,j,k] = 99999.\n",
    "                else:\n",
    "                    radmc3d_temp[i,j,k] = temp_interp(r_cyl,z)\n",
    "                \n",
    "    radmc3dpy_model.data.gastemp = radmc3d_temp\n",
    "    radmc3dpy_model.data.writeGasTemp(binary=False)\n",
    "\n",
    "def writeCONumDens(radmc3dpy_model, structurefile, upperheight_in, lowerheight_in, molname, RAF):\n",
    "    import radmc3dPy.natconst as nc\n",
    "    nx = radmc3dpy_model.data.grid.nx\n",
    "    ny = radmc3dpy_model.data.grid.ny\n",
    "    nz = radmc3dpy_model.data.grid.nz\n",
    "    radmc3d_CONumDens = np.zeros([nx, ny, nz])\n",
    "    HD163296structure = np.loadtxt(structurefile)\n",
    "    rac2d_r = HD163296structure[:,0]*nc.au \n",
    "    rac2d_z = HD163296structure[:,1]*nc.au \n",
    "    rac2d_ngas = HD163296structure[:,2] \n",
    "    \n",
    "    rac2d_r = np.concatenate((rac2d_r, rac2d_r))\n",
    "    rac2d_z = np.concatenate((rac2d_z, -1*rac2d_z))\n",
    "    rac2d_ngas =  np.concatenate((rac2d_ngas, rac2d_ngas))\n",
    "    \n",
    "    logngasinterp = LinearNDInterpolator(list(zip(rac2d_r, rac2d_z)), np.log10(rac2d_ngas),fill_value=1.e-20)\n",
    "    \n",
    "    for i in range(nx):\n",
    "        for j in range(ny):\n",
    "            for k in range(nz):\n",
    "                r_cyl = radmc3dpy_model.data.grid.x[i]*np.sin(radmc3dpy_model.data.grid.y[j])\n",
    "                z = np.abs(radmc3dpy_model.data.grid.x[i]*np.cos(radmc3dpy_model.data.grid.y[j]))\n",
    "                ngas = 10**logngasinterp(r_cyl,z)\n",
    "                if lowerheight_in< z/r_cyl < upperheight_in:\n",
    "                    radmc3d_CONumDens[i,j,k] = RAF*ngas\n",
    "                else:\n",
    "                    radmc3d_CONumDens[i,j,k] = 1.e-20\n",
    "    radmc3dpy_model.data.ndens_mol = radmc3d_CONumDens\n",
    "    radmc3dpy_model.data.writeGasDens(ispec=molname,binary=False)\n",
    "\n",
    "def writeIn(upperheight_in, lowerheight_in, molname_in, model_in):\n",
    "    import radmc3dPy.natconst as nc\n",
    "    HD163296file = '/data/feilongm/HD163296_radmc3d/HD163296structure.txt' #change to appropriate path as needed\n",
    "    writeGasTemp(model_in, HD163296file)\n",
    "    writeCONumDens(model_in, HD163296file, upperheight_in, lowerheight_in, molname_in, RAF)\n",
    "\n",
    "def copyDataAndWriteFile(molname, model_in):\n",
    "    if molname == 'co':\n",
    "        os.system('cp -v /shellstrop1/feilongm/radmc3d-2.0-master/python/radmc3dPy/python_examples/datafiles/molecule_co.inp .') # change to correct path\n",
    "    elif molname == 'hcn':\n",
    "        os.system('cp -v /home/feilongm/molecule_hcn.inp .')\n",
    "    else :\n",
    "        os.system('cp -v /home/feilongm/molecule_c2h.inp .')\n",
    "    model_in.par.ppar['gasspec_mol_name'] = [molname]\n",
    "    model_in.writeLinesInp()\n",
    "    model_in.par.ppar['lines_mode']=1\n",
    "    model_in.par.ppar['tgas_eq_tdust']=0\n",
    "    model_in.writeRadmc3dInp()\n",
    "\n",
    "def simulateImageCube(incl_in, widthkms_in, linenlam_in, iline_in):\n",
    "    radmc3dPy.image.makeImage(npix=512.,\n",
    "                          incl=incl_in,\n",
    "                          phi=0.,\n",
    "                          sizeau=1200.,\n",
    "                          widthkms=widthkms_in,\n",
    "                          linenlam=linenlam_in,\n",
    "                          iline=iline_in) \n",
    "def plotImage():\n",
    "    im = radmc3dPy.image.readImage(fname='image.out')\n",
    "    radmc3dPy.image.plotImage(im, arcsec=True, dpc=101., ifreq=7)\n",
    "    radmc3dPy.image.plotImage(im,arcsec=True, dpc=101., ifreq=4)\n",
    "    radmc3dPy.image.plotImage(im,arcsec=True, dpc=101., ifreq=10)\n",
    "    \n",
    "def saveAsFits():\n",
    "    im = radmc3dPy.image.readImage(fname='/data/feilongm/HD163296_radmc3d/image.out') #edit to match the path to the image\n",
    "    im.writeFits('testimage.fits', dpc=101., coord='17h56m21s -21d57m21s')"
   ]
  },
  {
   "cell_type": "code",
   "execution_count": 8,
   "metadata": {},
   "outputs": [
    {
     "name": "stdout",
     "output_type": "stream",
     "text": [
      "Writing problem_params.inp\n",
      "Writing amr_grid.inp\n",
      "Writing wavelength_micron.inp\n",
      "Writing stars.inp\n",
      "-------------------------------------------------------------\n",
      "Luminosities of radiation sources in the model :\n",
      "Reading wavelength_micron.inp\n",
      "As calculated from the input files :\n",
      "Stars : \n",
      "  Star #0 + hotspot        : 3.564346e+33\n",
      "Continuous starlike source : 0.000000e+00\n",
      " \n",
      "-------------------------------------------------------------\n",
      "Writing gas_velocity.inp\n",
      "Writing microturbulence.inp\n",
      "Writing gas_temperature.inp\n",
      "Writing numberdens_co.inp\n",
      "Writing lines.inp\n",
      "Writing radmc3d.inp\n",
      "Executing RADMC-3D Command:\n",
      "radmc3d image npix 512 incl 46.7 sizeau 1200.0 widthkms 10 linenlam 81 phi 0.0 pointau 0.0  0.0  0.0 fluxcons iline 2\n",
      "Reading image.out\n"
     ]
    },
    {
     "data": {
      "image/png": "[encoded data removed]",
      "text/plain": [
       "<Figure size 432x288 with 2 Axes>"
      ]
     },
     "metadata": {
      "needs_background": "light"
     },
     "output_type": "display_data"
    },
    {
     "data": {
      "image/png": "[encoded data removed]",
      "text/plain": [
       "<Figure size 432x288 with 2 Axes>"
      ]
     },
     "metadata": {
      "needs_background": "light"
     },
     "output_type": "display_data"
    },
    {
     "data": {
      "image/png": "[encoded data removed]",
      "text/plain": [
       "<Figure size 432x288 with 2 Axes>"
      ]
     },
     "metadata": {
      "needs_background": "light"
     },
     "output_type": "display_data"
    }
   ],
   "source": [
    "def RADMC3D(molname_in, iline_in, mstar_in, gasspec_vturb_in, lowerheight_in, upperheight_in, RAF, incl_in, widthkms_in, linenlam_in):\n",
    "    setDirectories()\n",
    "    results = load_output()\n",
    "    saveFile(results)\n",
    "    model_in = setModelGrid(mstar_in, gasspec_vturb_in)\n",
    "    writeIn(upperheight_in, lowerheight_in, molname_in, model_in)\n",
    "    copyDataAndWriteFile(molname_in, model_in)\n",
    "    simulateImageCube(incl_in, widthkms_in, linenlam_in, iline_in)\n",
    "    plotImage()\n",
    "    #saveAsFits()\n",
    "\n",
    "molname_in = 'co'\n",
    "iline_in = 2\n",
    "mstar_in = 4.e33\n",
    "gasspec_vturb_in = 1.e4\n",
    "upperheight_in = 0.25\n",
    "lowerheight_in = 0.15\n",
    "RAF = 1.e-5\n",
    "incl_in = 46.7\n",
    "widthkms_in = 10\n",
    "linenlam_in = 81\n",
    "\n",
    "RADMC3D(molname_in, iline_in, mstar_in, gasspec_vturb_in, lowerheight_in, upperheight_in, RAF, incl_in, widthkms_in, linenlam_in)"
   ]
  },
  {
   "cell_type": "code",
   "execution_count": null,
   "metadata": {},
   "outputs": [],
   "source": []
  }
 ],
 "metadata": {
  "kernelspec": {
   "display_name": "Python 3",
   "language": "python",
   "name": "python3"
  },
  "language_info": {
   "codemirror_mode": {
    "name": "ipython",
    "version": 3
   },
   "file_extension": ".py",
   "mimetype": "text/x-python",
   "name": "python",
   "nbconvert_exporter": "python",
   "pygments_lexer": "ipython3",
   "version": "3.8.6"
  }
 },
 "nbformat": 4,
 "nbformat_minor": 4
}
