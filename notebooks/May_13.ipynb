{
 "cells": [
  {
   "cell_type": "code",
   "execution_count": 2,
   "metadata": {},
   "outputs": [
    {
     "name": "stdout",
     "output_type": "stream",
     "text": [
      "Using -1.34 km/s to 12.66 km/s, and 0.00\" to 5.00\".\n",
      "Rotating data cube...\n",
      "Detecting peaks...\n"
     ]
    },
    {
     "data": {
      "text/plain": [
       "(array([4.82379318, 4.78931544, 4.77137445, ..., 4.75154894, 4.79886899,\n",
       "        4.8961598 ]),\n",
       " array([ 25.61239041, -25.73605539, -25.74979594, ..., -25.72231483,\n",
       "         26.03834755,  25.68109318]),\n",
       " array([0.005608  , 0.00508001, 0.00495794, ..., 0.00557549, 0.00500523,\n",
       "        0.00653387]),\n",
       " array([-1340.00001332, -1340.00001332, -1340.00001332, ...,\n",
       "        12659.99998648, 12659.99998648, 12659.99998648]),\n",
       " array([ 783.,  786.,  787., ..., 1260., 1263., 1266.]),\n",
       " array([1968.,   66.,   65., ...,   72., 1961., 1981.]),\n",
       " array([1943.,  108.,  108., ...,  103., 1981., 1935.]))"
      ]
     },
     "execution_count": 2,
     "metadata": {},
     "output_type": "execute_result"
    }
   ],
   "source": [
    "import numpy as np\n",
    "import matplotlib.pyplot as plt\n",
    "from diskprojection import disk_observation\n",
    "\n",
    "HD163296_13CO = disk_observation('/data/shared/HD163296_MAPS/HD_163296_13CO_220GHz.robust_0.5.clean.JvMcorr.image.pbcor.fits')\n",
    "#note that chans does NOT correspond to the channel maps\n",
    "HD163296_13CO.get_emission_surface_diagnostic(inc=46.7, PA=313.3, chans = [28, 98], r_max = 5, \n",
    "                                              directory='/data/shared/diskprojectiontest/HD163296_13CO')"
   ]
  },
  {
   "cell_type": "code",
   "execution_count": 8,
   "metadata": {},
   "outputs": [
    {
     "name": "stdout",
     "output_type": "stream",
     "text": [
      "Using -1.34 km/s to 12.66 km/s, and 0.00\" to 5.00\".\n",
      "Rotating data cube...\n",
      "Detecting peaks...\n"
     ]
    },
    {
     "ename": "IndexError",
     "evalue": "index -2 is out of bounds for axis 0 with size 1",
     "output_type": "error",
     "traceback": [
      "\u001b[0;31m---------------------------------------------------------------------------\u001b[0m",
      "\u001b[0;31mIndexError\u001b[0m                                Traceback (most recent call last)",
      "\u001b[0;32m<ipython-input-8-b12d4dfb70d0>\u001b[0m in \u001b[0;36m<module>\u001b[0;34m\u001b[0m\n\u001b[1;32m      1\u001b[0m \u001b[0mHD163296_CO\u001b[0m \u001b[0;34m=\u001b[0m \u001b[0mdisk_observation\u001b[0m\u001b[0;34m(\u001b[0m\u001b[0;34m'/data/shared/HD163296_MAPS/HD_163296_CO_220GHz.robust_0.5.clean.JvMcorr.image.pbcor.fits'\u001b[0m\u001b[0;34m)\u001b[0m\u001b[0;34m\u001b[0m\u001b[0;34m\u001b[0m\u001b[0m\n\u001b[1;32m      2\u001b[0m \u001b[0;31m#note that chans does NOT correspond to the channel maps\u001b[0m\u001b[0;34m\u001b[0m\u001b[0;34m\u001b[0m\u001b[0;34m\u001b[0m\u001b[0m\n\u001b[0;32m----> 3\u001b[0;31m HD163296_CO.get_emission_surface_diagnostic(inc=46.7, PA=313.3, chans = [28, 98], r_max = 5, \n\u001b[0m\u001b[1;32m      4\u001b[0m                                               directory='/data/shared/diskprojectiontest/HD163296_CO')\n",
      "\u001b[0;32m/data/shared/diskprojection/diskprojection/diskprojection.py\u001b[0m in \u001b[0;36mget_emission_surface_diagnostic\u001b[0;34m(self, inc, PA, x0, y0, chans, r_min, r_max, smooth, return_sorted, smooth_threshold_kwargs, detect_peaks_kwargs, directory, min_Fnu)\u001b[0m\n\u001b[1;32m    270\u001b[0m                 \u001b[0;32mexcept\u001b[0m \u001b[0;34m(\u001b[0m\u001b[0mValueError\u001b[0m\u001b[0;34m,\u001b[0m \u001b[0mIndexError\u001b[0m\u001b[0;34m)\u001b[0m\u001b[0;34m:\u001b[0m\u001b[0;34m\u001b[0m\u001b[0;34m\u001b[0m\u001b[0m\n\u001b[1;32m    271\u001b[0m                     \u001b[0mr\u001b[0m\u001b[0;34m,\u001b[0m \u001b[0mz\u001b[0m\u001b[0;34m,\u001b[0m \u001b[0mFnu\u001b[0m \u001b[0;34m=\u001b[0m \u001b[0mnp\u001b[0m\u001b[0;34m.\u001b[0m\u001b[0mnan\u001b[0m\u001b[0;34m,\u001b[0m \u001b[0mnp\u001b[0m\u001b[0;34m.\u001b[0m\u001b[0mnan\u001b[0m\u001b[0;34m,\u001b[0m \u001b[0mnp\u001b[0m\u001b[0;34m.\u001b[0m\u001b[0mnan\u001b[0m\u001b[0;34m\u001b[0m\u001b[0;34m\u001b[0m\u001b[0m\n\u001b[0;32m--> 272\u001b[0;31m                 \u001b[0mpeaks\u001b[0m \u001b[0;34m+=\u001b[0m \u001b[0;34m[\u001b[0m\u001b[0;34m[\u001b[0m\u001b[0mr\u001b[0m\u001b[0;34m,\u001b[0m \u001b[0mz\u001b[0m\u001b[0;34m,\u001b[0m \u001b[0mFnu\u001b[0m\u001b[0;34m,\u001b[0m \u001b[0mself\u001b[0m\u001b[0;34m.\u001b[0m\u001b[0mvelax\u001b[0m\u001b[0;34m[\u001b[0m\u001b[0mchans\u001b[0m\u001b[0;34m[\u001b[0m\u001b[0;36m0\u001b[0m\u001b[0;34m]\u001b[0m\u001b[0;34m:\u001b[0m\u001b[0mchans\u001b[0m\u001b[0;34m[\u001b[0m\u001b[0;36m1\u001b[0m\u001b[0;34m]\u001b[0m\u001b[0;34m+\u001b[0m\u001b[0;36m1\u001b[0m\u001b[0;34m]\u001b[0m\u001b[0;34m[\u001b[0m\u001b[0mc_idx\u001b[0m\u001b[0;34m]\u001b[0m\u001b[0;34m,\u001b[0m \u001b[0mx_idx\u001b[0m\u001b[0;34m,\u001b[0m \u001b[0my_idx\u001b[0m\u001b[0;34m[\u001b[0m\u001b[0;34m-\u001b[0m\u001b[0;36m1\u001b[0m\u001b[0;34m]\u001b[0m\u001b[0;34m,\u001b[0m \u001b[0my_idx\u001b[0m\u001b[0;34m[\u001b[0m\u001b[0;34m-\u001b[0m\u001b[0;36m2\u001b[0m\u001b[0;34m]\u001b[0m\u001b[0;34m]\u001b[0m\u001b[0;34m]\u001b[0m\u001b[0;34m\u001b[0m\u001b[0;34m\u001b[0m\u001b[0m\n\u001b[0m\u001b[1;32m    273\u001b[0m         \u001b[0mpeaks\u001b[0m \u001b[0;34m=\u001b[0m \u001b[0mnp\u001b[0m\u001b[0;34m.\u001b[0m\u001b[0msqueeze\u001b[0m\u001b[0;34m(\u001b[0m\u001b[0mpeaks\u001b[0m\u001b[0;34m)\u001b[0m\u001b[0;34m.\u001b[0m\u001b[0mT\u001b[0m\u001b[0;34m\u001b[0m\u001b[0;34m\u001b[0m\u001b[0m\n\u001b[1;32m    274\u001b[0m         \u001b[0mpeaks\u001b[0m \u001b[0;34m=\u001b[0m \u001b[0mpeaks\u001b[0m\u001b[0;34m[\u001b[0m\u001b[0;34m:\u001b[0m\u001b[0;34m,\u001b[0m \u001b[0mnp\u001b[0m\u001b[0;34m.\u001b[0m\u001b[0misfinite\u001b[0m\u001b[0;34m(\u001b[0m\u001b[0mpeaks\u001b[0m\u001b[0;34m[\u001b[0m\u001b[0;36m2\u001b[0m\u001b[0;34m]\u001b[0m\u001b[0;34m)\u001b[0m\u001b[0;34m]\u001b[0m\u001b[0;34m\u001b[0m\u001b[0;34m\u001b[0m\u001b[0m\n",
      "\u001b[0;31mIndexError\u001b[0m: index -2 is out of bounds for axis 0 with size 1"
     ]
    }
   ],
   "source": [
    "HD163296_CO = disk_observation('/data/shared/HD163296_MAPS/HD_163296_CO_220GHz.robust_0.5.clean.JvMcorr.image.pbcor.fits')\n",
    "#note that chans does NOT correspond to the channel maps\n",
    "HD163296_CO.get_emission_surface_diagnostic(inc=46.7, PA=313.3, chans = [28, 98], r_max = 5, \n",
    "                                              directory='/data/shared/diskprojectiontest/HD163296_CO')"
   ]
  },
  {
   "cell_type": "code",
   "execution_count": 9,
   "metadata": {},
   "outputs": [
    {
     "name": "stdout",
     "output_type": "stream",
     "text": [
      "Using -1.34 km/s to 12.66 km/s, and 0.00\" to 5.00\".\n",
      "Rotating data cube...\n",
      "Detecting peaks...\n"
     ]
    },
    {
     "data": {
      "text/plain": [
       "(array([4.97506205, 4.95770532, 4.86866947, ..., 4.87264053, 4.89262973,\n",
       "        4.91261903]),\n",
       " array([-25.61239041, -25.62613096,  23.29023699, ...,  24.81543835,\n",
       "         24.81543835,  24.81543835]),\n",
       " array([0.00475593, 0.00515599, 0.00400798, ..., 0.00539827, 0.00554435,\n",
       "        0.00459196]),\n",
       " array([-1340.0000306 , -1340.0000306 , -1340.0000306 , ...,\n",
       "        12659.99996547, 12659.99996547, 12659.99996547]),\n",
       " array([ 778.,  779.,  782., ..., 1267., 1268., 1269.]),\n",
       " array([  64.,   63., 1892., ..., 1932., 1932., 1932.]),\n",
       " array([ 119.,  119., 1850., ..., 1921., 1921., 1921.]))"
      ]
     },
     "execution_count": 9,
     "metadata": {},
     "output_type": "execute_result"
    }
   ],
   "source": [
    "HD163296_C18O = disk_observation('/data/shared/HD163296_MAPS/HD_163296_C18O_220GHz.robust_0.5.clean.JvMcorr.image.pbcor.fits')\n",
    "#note that chans does NOT correspond to the channel maps\n",
    "HD163296_C18O.get_emission_surface_diagnostic(inc=46.7, PA=313.3, chans = [28, 98], r_max = 5, \n",
    "                                              directory='/data/shared/diskprojectiontest/HD163296_C18O')"
   ]
  },
  {
   "cell_type": "code",
   "execution_count": 12,
   "metadata": {},
   "outputs": [
    {
     "name": "stdout",
     "output_type": "stream",
     "text": [
      "Using -1.34 km/s to 12.66 km/s, and 0.00\" to 5.00\".\n",
      "Rotating data cube...\n",
      "Detecting peaks...\n"
     ]
    },
    {
     "data": {
      "text/plain": [
       "(array([4.95137425, 4.93174628, 4.9480443 , ..., 4.97931339, 4.98335035,\n",
       "        4.99615292]),\n",
       " array([-20.26731537, -20.28105593, -19.47036331, ...,  19.29173613,\n",
       "         19.1543306 , -20.55586698]),\n",
       " array([0.00414617, 0.00370757, 0.0031873 , ..., 0.00261579, 0.00245182,\n",
       "        0.00304004]),\n",
       " array([-1340.00003626, -1340.00003626, -1340.00003626, ...,\n",
       "        12659.99996466, 12659.99996466, 12659.99996466]),\n",
       " array([ 520.,  521.,  522., ..., 1015., 1016., 1017.]),\n",
       " array([  26.,   25.,   80., ..., 1451., 1452.,   28.]),\n",
       " array([  34.,   34.,   38., ..., 1488., 1477.,   11.]))"
      ]
     },
     "execution_count": 12,
     "metadata": {},
     "output_type": "execute_result"
    }
   ],
   "source": [
    "HD163296_HCN = disk_observation('/data/shared/HD163296_MAPS/HD_163296_HCN_260GHz_hf1.robust_0.5.clean.JvMcorr.image.pbcor.fits')\n",
    "#note that chans does NOT correspond to the channel maps\n",
    "HD163296_HCN.get_emission_surface_diagnostic(inc=46.7, PA=313.3, chans = [28, 98], r_max = 5, \n",
    "                                              directory='/data/shared/diskprojectiontest/HD163296_HCN')"
   ]
  },
  {
   "cell_type": "code",
   "execution_count": 11,
   "metadata": {},
   "outputs": [
    {
     "name": "stdout",
     "output_type": "stream",
     "text": [
      "Using -1.34 km/s to 12.66 km/s, and 0.00\" to 5.00\".\n",
      "Rotating data cube...\n",
      "Detecting peaks...\n"
     ]
    },
    {
     "ename": "IndexError",
     "evalue": "index -2 is out of bounds for axis 0 with size 1",
     "output_type": "error",
     "traceback": [
      "\u001b[0;31m---------------------------------------------------------------------------\u001b[0m",
      "\u001b[0;31mIndexError\u001b[0m                                Traceback (most recent call last)",
      "\u001b[0;32m<ipython-input-11-83b8bf84e2e3>\u001b[0m in \u001b[0;36m<module>\u001b[0;34m\u001b[0m\n\u001b[1;32m      1\u001b[0m \u001b[0mHD163296_C2H\u001b[0m \u001b[0;34m=\u001b[0m \u001b[0mdisk_observation\u001b[0m\u001b[0;34m(\u001b[0m\u001b[0;34m'/data/shared/HD163296_MAPS/HD_163296_C2H_260GHz_hf4.robust_0.5.clean.JvMcorr.image.pbcor.fits'\u001b[0m\u001b[0;34m)\u001b[0m\u001b[0;34m\u001b[0m\u001b[0;34m\u001b[0m\u001b[0m\n\u001b[1;32m      2\u001b[0m \u001b[0;31m#note that chans does NOT correspond to the channel maps\u001b[0m\u001b[0;34m\u001b[0m\u001b[0;34m\u001b[0m\u001b[0;34m\u001b[0m\u001b[0m\n\u001b[0;32m----> 3\u001b[0;31m HD163296_C2H.get_emission_surface_diagnostic(inc=46.7, PA=313.3, chans = [28, 98], r_max = 5, \n\u001b[0m\u001b[1;32m      4\u001b[0m                                               directory='/data/shared/diskprojectiontest/HD163296_C2H')\n",
      "\u001b[0;32m/data/shared/diskprojection/diskprojection/diskprojection.py\u001b[0m in \u001b[0;36mget_emission_surface_diagnostic\u001b[0;34m(self, inc, PA, x0, y0, chans, r_min, r_max, smooth, return_sorted, smooth_threshold_kwargs, detect_peaks_kwargs, directory, min_Fnu)\u001b[0m\n\u001b[1;32m    270\u001b[0m                 \u001b[0;32mexcept\u001b[0m \u001b[0;34m(\u001b[0m\u001b[0mValueError\u001b[0m\u001b[0;34m,\u001b[0m \u001b[0mIndexError\u001b[0m\u001b[0;34m)\u001b[0m\u001b[0;34m:\u001b[0m\u001b[0;34m\u001b[0m\u001b[0;34m\u001b[0m\u001b[0m\n\u001b[1;32m    271\u001b[0m                     \u001b[0mr\u001b[0m\u001b[0;34m,\u001b[0m \u001b[0mz\u001b[0m\u001b[0;34m,\u001b[0m \u001b[0mFnu\u001b[0m \u001b[0;34m=\u001b[0m \u001b[0mnp\u001b[0m\u001b[0;34m.\u001b[0m\u001b[0mnan\u001b[0m\u001b[0;34m,\u001b[0m \u001b[0mnp\u001b[0m\u001b[0;34m.\u001b[0m\u001b[0mnan\u001b[0m\u001b[0;34m,\u001b[0m \u001b[0mnp\u001b[0m\u001b[0;34m.\u001b[0m\u001b[0mnan\u001b[0m\u001b[0;34m\u001b[0m\u001b[0;34m\u001b[0m\u001b[0m\n\u001b[0;32m--> 272\u001b[0;31m                 \u001b[0mpeaks\u001b[0m \u001b[0;34m+=\u001b[0m \u001b[0;34m[\u001b[0m\u001b[0;34m[\u001b[0m\u001b[0mr\u001b[0m\u001b[0;34m,\u001b[0m \u001b[0mz\u001b[0m\u001b[0;34m,\u001b[0m \u001b[0mFnu\u001b[0m\u001b[0;34m,\u001b[0m \u001b[0mself\u001b[0m\u001b[0;34m.\u001b[0m\u001b[0mvelax\u001b[0m\u001b[0;34m[\u001b[0m\u001b[0mchans\u001b[0m\u001b[0;34m[\u001b[0m\u001b[0;36m0\u001b[0m\u001b[0;34m]\u001b[0m\u001b[0;34m:\u001b[0m\u001b[0mchans\u001b[0m\u001b[0;34m[\u001b[0m\u001b[0;36m1\u001b[0m\u001b[0;34m]\u001b[0m\u001b[0;34m+\u001b[0m\u001b[0;36m1\u001b[0m\u001b[0;34m]\u001b[0m\u001b[0;34m[\u001b[0m\u001b[0mc_idx\u001b[0m\u001b[0;34m]\u001b[0m\u001b[0;34m,\u001b[0m \u001b[0mx_idx\u001b[0m\u001b[0;34m,\u001b[0m \u001b[0my_idx\u001b[0m\u001b[0;34m[\u001b[0m\u001b[0;34m-\u001b[0m\u001b[0;36m1\u001b[0m\u001b[0;34m]\u001b[0m\u001b[0;34m,\u001b[0m \u001b[0my_idx\u001b[0m\u001b[0;34m[\u001b[0m\u001b[0;34m-\u001b[0m\u001b[0;36m2\u001b[0m\u001b[0;34m]\u001b[0m\u001b[0;34m]\u001b[0m\u001b[0;34m]\u001b[0m\u001b[0;34m\u001b[0m\u001b[0;34m\u001b[0m\u001b[0m\n\u001b[0m\u001b[1;32m    273\u001b[0m         \u001b[0mpeaks\u001b[0m \u001b[0;34m=\u001b[0m \u001b[0mnp\u001b[0m\u001b[0;34m.\u001b[0m\u001b[0msqueeze\u001b[0m\u001b[0;34m(\u001b[0m\u001b[0mpeaks\u001b[0m\u001b[0;34m)\u001b[0m\u001b[0;34m.\u001b[0m\u001b[0mT\u001b[0m\u001b[0;34m\u001b[0m\u001b[0;34m\u001b[0m\u001b[0m\n\u001b[1;32m    274\u001b[0m         \u001b[0mpeaks\u001b[0m \u001b[0;34m=\u001b[0m \u001b[0mpeaks\u001b[0m\u001b[0;34m[\u001b[0m\u001b[0;34m:\u001b[0m\u001b[0;34m,\u001b[0m \u001b[0mnp\u001b[0m\u001b[0;34m.\u001b[0m\u001b[0misfinite\u001b[0m\u001b[0;34m(\u001b[0m\u001b[0mpeaks\u001b[0m\u001b[0;34m[\u001b[0m\u001b[0;36m2\u001b[0m\u001b[0;34m]\u001b[0m\u001b[0;34m)\u001b[0m\u001b[0;34m]\u001b[0m\u001b[0;34m\u001b[0m\u001b[0;34m\u001b[0m\u001b[0m\n",
      "\u001b[0;31mIndexError\u001b[0m: index -2 is out of bounds for axis 0 with size 1"
     ]
    }
   ],
   "source": [
    "HD163296_C2H = disk_observation('/data/shared/HD163296_MAPS/HD_163296_C2H_260GHz_hf4.robust_0.5.clean.JvMcorr.image.pbcor.fits')\n",
    "#note that chans does NOT correspond to the channel maps\n",
    "HD163296_C2H.get_emission_surface_diagnostic(inc=46.7, PA=313.3, chans = [28, 98], r_max = 5, \n",
    "                                              directory='/data/shared/diskprojectiontest/HD163296_C2H')"
   ]
  },
  {
   "cell_type": "code",
   "execution_count": null,
   "metadata": {},
   "outputs": [],
   "source": []
  }
 ],
 "metadata": {
  "kernelspec": {
   "display_name": "Python 3",
   "language": "python",
   "name": "python3"
  },
  "language_info": {
   "codemirror_mode": {
    "name": "ipython",
    "version": 3
   },
   "file_extension": ".py",
   "mimetype": "text/x-python",
   "name": "python",
   "nbconvert_exporter": "python",
   "pygments_lexer": "ipython3",
   "version": "3.8.6"
  }
 },
 "nbformat": 4,
 "nbformat_minor": 4
}
